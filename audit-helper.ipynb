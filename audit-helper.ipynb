{
 "cells": [
  {
   "cell_type": "code",
   "execution_count": 28,
   "metadata": {},
   "outputs": [
    {
     "name": "stdout",
     "output_type": "stream",
     "text": [
      "您当前目录下有如下excel文件：\n",
      "1 .\t data.xls\n",
      "2 .\t details.xls\n",
      "3 .\t details.xls\n",
      "\n",
      "请输入想处理文件的序号：2\n",
      "\n",
      "请给输出文件起个名字：output\n",
      "\n",
      "程序将运行半分钟至1分钟，运行完后会自动关闭，输出文件将出现在当前目录下\n"
     ]
    }
   ],
   "source": [
    "# -*- coding: utf-8 -*-   \n",
    "import os  \n",
    "\n",
    "def file_name(file_dir):   \n",
    "    L=[]   \n",
    "    i = 1\n",
    "    for root, dirs, files in os.walk(file_dir):  \n",
    "        for file in files:  \n",
    "            if os.path.splitext(file)[1] == '.xls':\n",
    "                print(i,'.\\t',file)\n",
    "                i += 1\n",
    "                L.append(os.path.join(root, file))  \n",
    "    return L\n",
    "\n",
    "#其中os.path.splitext()函数将路径拆分为文件名+扩展名        \n",
    "print('您当前目录下有如下excel文件：')\n",
    "files = file_name(os.getcwd())\n",
    "snum = input('\\n请输入想处理文件的序号：')\n",
    "resoursepath = files[int(snum)-1]\n",
    "name = input('\\n请给输出文件起个名字：')\n",
    "testpath = name + '.xls'\n",
    "print('\\n程序将运行半分钟至1分钟，运行完后会自动关闭，输出文件将出现在当前目录下')"
   ]
  },
  {
   "cell_type": "code",
   "execution_count": 22,
   "metadata": {
    "collapsed": true
   },
   "outputs": [],
   "source": [
    "YEAR = 1\n",
    "ACCNUM = 8\n",
    "ACCNAME = 9\n",
    "DEB = 10\n",
    "CRE = 11\n",
    "\n",
    "#读取excel使用(支持03)  \n",
    "import xlrd \n",
    "#写入excel使用(支持03)  \n",
    "import xlwt\n",
    "#读取execel使用(支持07)  \n",
    "from openpyxl import Workbook  \n",
    "#写入excel使用(支持07)  \n",
    "from openpyxl import load_workbook\n",
    "import numpy as np\n",
    "\n",
    "\n",
    "workbook=xlrd.open_workbook(resoursepath)  \n",
    "sheets=workbook.sheet_names()\n",
    "sheet=workbook.sheet_by_name(sheets[0])  \n",
    "\n",
    "def pick_col(func, i, c = 1):\n",
    "    result = func(sheet.col_values(i)) \n",
    "    result.remove(sheet.cell_value(0,i))\n",
    "    result.remove(sheet.cell_value(1,i))\n",
    "    if c:\n",
    "        result = func(map(str, result))\n",
    "    return result\n",
    "\n",
    "account_set = sorted(list(pick_col(set, ACCNUM)))\n",
    "year_set = sorted(list(pick_col(set, YEAR, 0)))\n",
    "\n",
    "nrows = sheet.nrows\n",
    "\n",
    "ndata = {}\n",
    "for acc in account_set:\n",
    "    init = 0.0\n",
    "    end = 0.0\n",
    "    tdata = []\n",
    "    \n",
    "    for year in year_set:\n",
    "        ydata = []\n",
    "        credit = 0.0\n",
    "        debit = 0.0\n",
    "        \n",
    "        #遍历sheet1中所有行row       \n",
    "        for curr_row in range(nrows):\n",
    "            row = sheet.row_values(curr_row)\n",
    "            if(row[YEAR]==year)&(str(row[ACCNUM])==acc):\n",
    "                credit += row[CRE]\n",
    "                debit += row[DEB]\n",
    "                \n",
    "        end = credit + init - debit\n",
    "        if np.abs(end) < 1e-3:\n",
    "            end = 0\n",
    "        tdata.append(init)\n",
    "        tdata.append(debit)\n",
    "        tdata.append(credit)      \n",
    "        tdata.append(end)\n",
    "        init = end\n",
    "    ndata[acc] = tdata\n",
    "    \n",
    "check_name = dict(zip(pick_col(list, ACCNUM), pick_col(list, ACCNAME)))"
   ]
  },
  {
   "cell_type": "code",
   "execution_count": 30,
   "metadata": {},
   "outputs": [
    {
     "name": "stdout",
     "output_type": "stream",
     "text": [
      "\n",
      "写入数据成功！\n"
     ]
    },
    {
     "ename": "NameError",
     "evalue": "name 'Sleep' is not defined",
     "output_type": "error",
     "traceback": [
      "\u001b[1;31m---------------------------------------------------------------------------\u001b[0m",
      "\u001b[1;31mNameError\u001b[0m                                 Traceback (most recent call last)",
      "\u001b[1;32m<ipython-input-30-185d3e33cd0d>\u001b[0m in \u001b[0;36m<module>\u001b[1;34m()\u001b[0m\n\u001b[0;32m     37\u001b[0m \u001b[1;33m\u001b[0m\u001b[0m\n\u001b[0;32m     38\u001b[0m \u001b[0mwrite_excel\u001b[0m\u001b[1;33m(\u001b[0m\u001b[0mndata\u001b[0m\u001b[1;33m,\u001b[0m \u001b[0mtestpath\u001b[0m\u001b[1;33m)\u001b[0m\u001b[1;33m\u001b[0m\u001b[0m\n\u001b[1;32m---> 39\u001b[1;33m \u001b[0mSleep\u001b[0m\u001b[1;33m(\u001b[0m\u001b[1;36m3\u001b[0m\u001b[1;33m)\u001b[0m\u001b[1;33m\u001b[0m\u001b[0m\n\u001b[0m",
      "\u001b[1;31mNameError\u001b[0m: name 'Sleep' is not defined"
     ]
    }
   ],
   "source": [
    "main_acc = sorted(list(set([acc[:4]for acc in account_set])))\n",
    "ylen = len(year_set)\n",
    "def write_format(sheet, year_set):\n",
    "    sheet.write_merge(0, 1, 0, 0, '科目代码')\n",
    "    sheet.write_merge(0, 1, 1, 1, '科目名称')\n",
    "    i = 2\n",
    "    for year in year_set:\n",
    "        sheet.write_merge(0, 0, i, i+3, '%d年'%year)\n",
    "        sheet.write_merge(1, 1, i, i, '年初')\n",
    "        sheet.write_merge(1, 1, i+1, i+1, '借方')\n",
    "        sheet.write_merge(1, 1, i+2, i+2, '贷方')\n",
    "        sheet.write_merge(1, 1, i+3, i+3, '年末')\n",
    "        i+=4  \n",
    "def write_excel(data, path):    \n",
    "    wb=xlwt.Workbook()  \n",
    "    sheet=wb.add_sheet(\"sheet1\",cell_overwrite_ok=True)\n",
    "    write_format(sheet, year_set)\n",
    "    i = 2\n",
    "    for main in main_acc:\n",
    "        mdata = [0] * ylen * 4\n",
    "        mi = i\n",
    "        i += 1\n",
    "        for acc in account_set:\n",
    "            if main in acc:\n",
    "                sheet.write(i, 0, acc)\n",
    "                sheet.write(i, 1, check_name[acc])\n",
    "                for j in range(len(data[acc])):\n",
    "                    mdata[j] += data[acc][j]\n",
    "                    sheet.write(i, j+2, round(data[acc][j], 2))\n",
    "                sheet.write(mi, 0, main)\n",
    "                for j in range(len(data[acc])):\n",
    "                    sheet.write(mi, j+2, round(mdata[j]))\n",
    "                i += 1 \n",
    "        i += 1\n",
    "    wb.save(path)  \n",
    "    print(\"\\n写入数据成功！\")\n",
    "\n",
    "write_excel(ndata, testpath)    "
   ]
  },
  {
   "cell_type": "code",
   "execution_count": null,
   "metadata": {
    "collapsed": true
   },
   "outputs": [],
   "source": []
  }
 ],
 "metadata": {
  "kernelspec": {
   "display_name": "Python 3",
   "language": "python",
   "name": "python3"
  },
  "language_info": {
   "codemirror_mode": {
    "name": "ipython",
    "version": 3
   },
   "file_extension": ".py",
   "mimetype": "text/x-python",
   "name": "python",
   "nbconvert_exporter": "python",
   "pygments_lexer": "ipython3",
   "version": "3.6.1"
  }
 },
 "nbformat": 4,
 "nbformat_minor": 2
}
